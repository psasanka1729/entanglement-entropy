{
 "cells": [
  {
   "cell_type": "code",
   "execution_count": 4,
   "id": "8a9bd009-834d-4b8d-9198-57442e41ab50",
   "metadata": {},
   "outputs": [],
   "source": [
    "import numpy as np\n",
    "def One_roll_operator(number_of_qubits):\n",
    "    \n",
    "    def Bin2Dec(BinaryNumber): # Converts binary to decimal numbers.\n",
    "        return int(str(BinaryNumber),2)\n",
    "\n",
    "    def Dec2Bin(DecimalNumber): # Converts decimal to binary numbers.\n",
    "        \n",
    "        i_Bin = bin(DecimalNumber).replace(\"0b\", \"\")\n",
    "        \n",
    "        r\"\"\"\n",
    "        While converting a decimal number to binary, for example 1,\n",
    "        its representation is '001'. A straightforward conversion\n",
    "        will result in '1'. The following loop adds the leading zeros\n",
    "        in such cases.\n",
    "    \n",
    "        \"\"\"\n",
    "        \n",
    "        # The binary representation must be of length number_of_qubits.\n",
    "        while len(i_Bin) < number_of_qubits: \n",
    "            i_Bin = '0'+i_Bin # This loop adds leading zeros.    \n",
    "        return i_Bin\n",
    "    \n",
    "    r\"\"\"\n",
    "    The following function takes a binary string as input and rolls \n",
    "    the qubits by one and returns the rolled binary string.\n",
    "    \"\"\"\n",
    "    \n",
    "    def Roll_String(Binary_String):\n",
    "        # The last digit is put in the first place.\n",
    "        return Binary_String[-1] + Binary_String[:-1]    \n",
    "\n",
    "    # Initializing the rolling operator.\n",
    "    R = np.zeros((2**number_of_qubits,2**number_of_qubits))\n",
    "    \n",
    "    for i in range(2**number_of_qubits):\n",
    "        \n",
    "        r\"\"\"\n",
    "        Steps in the following loop:\n",
    "        (1) The number is converted from decimal to binary.\n",
    "        (2) The qubits are rolled once.\n",
    "        (3) The rolled binary number is converted to decimal number.\n",
    "        (4) The corresponding position in R is replaced by 1.\n",
    "        \"\"\"\n",
    "        \n",
    "        R[i,Bin2Dec(Roll_String((Dec2Bin(i))))] = 1\n",
    "        \n",
    "    return R"
   ]
  },
  {
   "cell_type": "code",
   "execution_count": 5,
   "id": "464ba997-2b68-44ea-8d49-9e329ebd4af4",
   "metadata": {},
   "outputs": [
    {
     "data": {
      "text/plain": [
       "array([[1., 0., 0., 0., 0., 0., 0., 0.],\n",
       "       [0., 0., 0., 0., 1., 0., 0., 0.],\n",
       "       [0., 1., 0., 0., 0., 0., 0., 0.],\n",
       "       [0., 0., 0., 0., 0., 1., 0., 0.],\n",
       "       [0., 0., 1., 0., 0., 0., 0., 0.],\n",
       "       [0., 0., 0., 0., 0., 0., 1., 0.],\n",
       "       [0., 0., 0., 1., 0., 0., 0., 0.],\n",
       "       [0., 0., 0., 0., 0., 0., 0., 1.]])"
      ]
     },
     "execution_count": 5,
     "metadata": {},
     "output_type": "execute_result"
    }
   ],
   "source": [
    "One_roll_operator(3)"
   ]
  }
 ],
 "metadata": {
  "kernelspec": {
   "display_name": "Python 3 (ipykernel)",
   "language": "python",
   "name": "python3"
  },
  "language_info": {
   "codemirror_mode": {
    "name": "ipython",
    "version": 3
   },
   "file_extension": ".py",
   "mimetype": "text/x-python",
   "name": "python",
   "nbconvert_exporter": "python",
   "pygments_lexer": "ipython3",
   "version": "3.9.12"
  }
 },
 "nbformat": 4,
 "nbformat_minor": 5
}
